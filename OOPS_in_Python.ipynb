{
  "nbformat": 4,
  "nbformat_minor": 0,
  "metadata": {
    "colab": {
      "provenance": [],
      "authorship_tag": "ABX9TyOQ7taWdNcJmR0L5brJ7K2X",
      "include_colab_link": true
    },
    "kernelspec": {
      "name": "python3",
      "display_name": "Python 3"
    },
    "language_info": {
      "name": "python"
    }
  },
  "cells": [
    {
      "cell_type": "markdown",
      "metadata": {
        "id": "view-in-github",
        "colab_type": "text"
      },
      "source": [
        "<a href=\"https://colab.research.google.com/github/kkanandkarn/Code_Teko_Website/blob/main/OOPS_in_Python.ipynb\" target=\"_parent\"><img src=\"https://colab.research.google.com/assets/colab-badge.svg\" alt=\"Open In Colab\"/></a>"
      ]
    },
    {
      "cell_type": "code",
      "execution_count": null,
      "metadata": {
        "id": "sj4mTmr8Imsa"
      },
      "outputs": [],
      "source": [
        "class atm:\n",
        "  def __init__(self,name,password):\n",
        "    self.name = name\n",
        "    self.password = password\n",
        "  def output(self):\n",
        "    print(\"name:\",self.name)\n",
        "    print(\"password:\",self.password)"
      ]
    },
    {
      "cell_type": "code",
      "source": [
        "a1 = atm('anand','karn')"
      ],
      "metadata": {
        "id": "OStbvra5LGfa"
      },
      "execution_count": null,
      "outputs": []
    },
    {
      "cell_type": "code",
      "source": [
        "a1.output()"
      ],
      "metadata": {
        "colab": {
          "base_uri": "https://localhost:8080/"
        },
        "id": "b8MK0-eYLQMT",
        "outputId": "4a5ff619-e58d-4baa-a000-2d284004c4ea"
      },
      "execution_count": null,
      "outputs": [
        {
          "output_type": "stream",
          "name": "stdout",
          "text": [
            "name: anand\n",
            "password: karn\n"
          ]
        }
      ]
    },
    {
      "cell_type": "code",
      "source": [
        "class atm:\n",
        "  def __init__(self,name,password):\n",
        "    #self.name = name\n",
        "    #self.password = password\n",
        "    print(\"name:\",name)\n",
        "    print(\"password:\",password)\n",
        "    \n",
        "  '''def output(self):\n",
        "    print(\"name:\",self.name)\n",
        "    print(\"password:\",self.password)'''"
      ],
      "metadata": {
        "id": "a3Ax1kbCLXBE"
      },
      "execution_count": null,
      "outputs": []
    },
    {
      "cell_type": "code",
      "source": [
        "a1=atm(\"anand\",42)"
      ],
      "metadata": {
        "colab": {
          "base_uri": "https://localhost:8080/"
        },
        "id": "XUMtBVDuL5h9",
        "outputId": "c2f9b312-8794-4acf-bdee-75961e311836"
      },
      "execution_count": null,
      "outputs": [
        {
          "output_type": "stream",
          "name": "stdout",
          "text": [
            "name: anand\n",
            "password: 42\n"
          ]
        }
      ]
    },
    {
      "cell_type": "code",
      "source": [
        "class hello:\n",
        "  print(\"hello world\")"
      ],
      "metadata": {
        "colab": {
          "base_uri": "https://localhost:8080/"
        },
        "id": "cDOP_75FMiT1",
        "outputId": "03171ec5-eaa6-4fac-c0aa-b239cda1498a"
      },
      "execution_count": null,
      "outputs": [
        {
          "output_type": "stream",
          "name": "stdout",
          "text": [
            "hello world\n"
          ]
        }
      ]
    },
    {
      "cell_type": "code",
      "source": [
        "class hello:\n",
        "  def out():\n",
        "    print(\"hello world\")"
      ],
      "metadata": {
        "id": "u9vvmBKzNMRm"
      },
      "execution_count": null,
      "outputs": []
    },
    {
      "cell_type": "code",
      "source": [
        "h1 = hello()"
      ],
      "metadata": {
        "id": "dTlDUE0XNYEi"
      },
      "execution_count": null,
      "outputs": []
    },
    {
      "cell_type": "code",
      "source": [
        "h1.out()"
      ],
      "metadata": {
        "colab": {
          "base_uri": "https://localhost:8080/",
          "height": 165
        },
        "id": "ByjgTYYrNaZ3",
        "outputId": "de59e5ba-8328-488a-f64e-d235d43011d9"
      },
      "execution_count": null,
      "outputs": [
        {
          "output_type": "error",
          "ename": "TypeError",
          "evalue": "ignored",
          "traceback": [
            "\u001b[0;31m---------------------------------------------------------------------------\u001b[0m",
            "\u001b[0;31mTypeError\u001b[0m                                 Traceback (most recent call last)",
            "\u001b[0;32m<ipython-input-35-051b3af9fe6f>\u001b[0m in \u001b[0;36m<module>\u001b[0;34m\u001b[0m\n\u001b[0;32m----> 1\u001b[0;31m \u001b[0mh1\u001b[0m\u001b[0;34m.\u001b[0m\u001b[0mout\u001b[0m\u001b[0;34m(\u001b[0m\u001b[0;34m)\u001b[0m\u001b[0;34m\u001b[0m\u001b[0;34m\u001b[0m\u001b[0m\n\u001b[0m",
            "\u001b[0;31mTypeError\u001b[0m: out() takes 0 positional arguments but 1 was given"
          ]
        }
      ]
    },
    {
      "cell_type": "code",
      "source": [
        "class hello:\n",
        "  def out(self):\n",
        "    print(\"hello world\")"
      ],
      "metadata": {
        "id": "j2OzaGKnNcls"
      },
      "execution_count": null,
      "outputs": []
    },
    {
      "cell_type": "code",
      "source": [
        "h1 = hello()"
      ],
      "metadata": {
        "id": "VjbfTMJ1Nn04"
      },
      "execution_count": null,
      "outputs": []
    },
    {
      "cell_type": "code",
      "source": [
        "h1.out()"
      ],
      "metadata": {
        "colab": {
          "base_uri": "https://localhost:8080/"
        },
        "id": "POPBiZAwNpv8",
        "outputId": "5eb03e4b-110d-41af-823c-c8bd0843ddba"
      },
      "execution_count": null,
      "outputs": [
        {
          "output_type": "stream",
          "name": "stdout",
          "text": [
            "hello world\n"
          ]
        }
      ]
    },
    {
      "cell_type": "markdown",
      "source": [
        "Inheritance"
      ],
      "metadata": {
        "id": "Nl0psTMhOC0q"
      }
    },
    {
      "cell_type": "code",
      "source": [
        "class university:\n",
        "  def college(self):\n",
        "    c1 = input(\"Enter college:\")\n",
        "    print(f\"{c1} data saved\")\n",
        "  def branch(self):\n",
        "    b1 = input(\"Enter brnach:\")\n",
        "    print(f\"{b1} data saved\")"
      ],
      "metadata": {
        "id": "JYiH-ABgNqtW"
      },
      "execution_count": null,
      "outputs": []
    },
    {
      "cell_type": "code",
      "source": [
        "class college:\n",
        "  pass"
      ],
      "metadata": {
        "id": "5ZEmT6aAN82i"
      },
      "execution_count": null,
      "outputs": []
    },
    {
      "cell_type": "code",
      "source": [
        "admin = university()"
      ],
      "metadata": {
        "id": "PRIO2nbKP78y"
      },
      "execution_count": null,
      "outputs": []
    },
    {
      "cell_type": "code",
      "source": [
        "admin.college()\n",
        "admin.branch()"
      ],
      "metadata": {
        "colab": {
          "base_uri": "https://localhost:8080/"
        },
        "id": "h4xAMl6LP_S-",
        "outputId": "867eba2e-c86a-478d-eda8-cb4777be6f1d"
      },
      "execution_count": null,
      "outputs": [
        {
          "output_type": "stream",
          "name": "stdout",
          "text": [
            "Enter college:SUCSE\n",
            "SUCSE data saved\n",
            "Enter brnach:CSE\n",
            "CSE data saved\n"
          ]
        }
      ]
    },
    {
      "cell_type": "code",
      "source": [
        "admin.college()"
      ],
      "metadata": {
        "colab": {
          "base_uri": "https://localhost:8080/"
        },
        "id": "ldlQ4EtPQD-R",
        "outputId": "19708e95-70f8-4654-b51c-a4fec82e741a"
      },
      "execution_count": null,
      "outputs": [
        {
          "output_type": "stream",
          "name": "stdout",
          "text": [
            "Enter college:sum\n",
            "sum data saved\n"
          ]
        }
      ]
    },
    {
      "cell_type": "code",
      "source": [
        "admin.branch()"
      ],
      "metadata": {
        "colab": {
          "base_uri": "https://localhost:8080/"
        },
        "id": "ov6052dlQcWv",
        "outputId": "d24bf3e6-06d6-407d-a483-9e7a1139c89f"
      },
      "execution_count": null,
      "outputs": [
        {
          "output_type": "stream",
          "name": "stdout",
          "text": [
            "Enter brnach:cse\n",
            "cse data saved\n"
          ]
        }
      ]
    },
    {
      "cell_type": "code",
      "source": [
        "class university:\n",
        "  def college(self):\n",
        "    c1 = input(\"Enter college:\")\n",
        "    print(f\"{c1} data saved\")\n",
        "  def branch(self):\n",
        "    b1 = input(\"Enter brnach:\")\n",
        "    print(f\"{b1} data saved\")"
      ],
      "metadata": {
        "id": "zXgXZWW-QfZ8"
      },
      "execution_count": null,
      "outputs": []
    },
    {
      "cell_type": "code",
      "source": [
        "class college(university):\n",
        "  pass"
      ],
      "metadata": {
        "id": "nWlDacAFQ-zY"
      },
      "execution_count": null,
      "outputs": []
    },
    {
      "cell_type": "code",
      "source": [
        "admin1=college()"
      ],
      "metadata": {
        "id": "kPQquOpKREsl"
      },
      "execution_count": null,
      "outputs": []
    },
    {
      "cell_type": "code",
      "source": [
        "admin1.college()"
      ],
      "metadata": {
        "colab": {
          "base_uri": "https://localhost:8080/"
        },
        "id": "ZPAFBzORRJUi",
        "outputId": "cef9a84a-1442-4416-dd42-6f390fef5112"
      },
      "execution_count": null,
      "outputs": [
        {
          "output_type": "stream",
          "name": "stdout",
          "text": [
            "Enter college:sum\n",
            "sum data saved\n"
          ]
        }
      ]
    },
    {
      "cell_type": "code",
      "source": [
        "admin1.branch()"
      ],
      "metadata": {
        "colab": {
          "base_uri": "https://localhost:8080/"
        },
        "id": "FxOSqoNjROC4",
        "outputId": "ff4b575d-29f1-4097-be48-c2b93090841f"
      },
      "execution_count": null,
      "outputs": [
        {
          "output_type": "stream",
          "name": "stdout",
          "text": [
            "Enter brnach:cse\n",
            "cse data saved\n"
          ]
        }
      ]
    },
    {
      "cell_type": "code",
      "source": [],
      "metadata": {
        "id": "ef5BMKPDR25K"
      },
      "execution_count": null,
      "outputs": []
    }
  ]
}